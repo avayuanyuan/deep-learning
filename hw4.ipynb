{
 "cells": [
  {
   "cell_type": "code",
   "execution_count": 2,
   "metadata": {
    "colab": {
     "base_uri": "https://localhost:8080/",
     "height": 51
    },
    "colab_type": "code",
    "id": "nm_W8doGalYI",
    "outputId": "45d20068-e460-4c70-9309-e42d2eae56dc"
   },
   "outputs": [
    {
     "name": "stdout",
     "output_type": "stream",
     "text": [
      "Downloading https://www.cs.toronto.edu/~kriz/cifar-100-python.tar.gz to ./data/cifar-100-python.tar.gz\n",
      "Files already downloaded and verified\n"
     ]
    }
   ],
   "source": [
    "import torch\n",
    "from torchvision.datasets import CIFAR100\n",
    "from torch.utils.data import DataLoader\n",
    "from torchvision import transforms\n",
    "\n",
    "train_transform = transforms.Compose(\n",
    "     [transforms.RandomHorizontalFlip(),\n",
    "      transforms.RandomCrop(32),\n",
    "      transforms.RandomRotation(30),\n",
    "      transforms.ToTensor(),\n",
    "      transforms.Normalize((0.5,0.5,0.5),(0.5,0.5,0.5))])\n",
    "test_transform = transforms.Compose(\n",
    "       [transforms.ToTensor(),\n",
    "        transforms.Normalize((0.5,0.5,0.5),(0.5,0.5,0.5))])\n",
    "\n",
    "traindata = CIFAR100(root='./data', train=True, download=True, transform=train_transform)\n",
    "testdata = CIFAR100(root='./data', train=False, download=True, transform=test_transform)"
   ]
  },
  {
   "cell_type": "code",
   "execution_count": 0,
   "metadata": {
    "colab": {},
    "colab_type": "code",
    "collapsed": true,
    "id": "vYccmuVialYO"
   },
   "outputs": [],
   "source": [
    "import torch.nn as nn\n",
    "import torch.nn.functional as F\n",
    "\n",
    "class basicblock(nn.Module):\n",
    "    def __init__(self,inchannel,outchannel,stride=1):\n",
    "        super(basicblock,self).__init__()\n",
    "        self.conv1 = nn.Conv2d(inchannel,outchannel,kernel_size=3,stride=stride,padding=1)\n",
    "        self.bn1 = nn.BatchNorm2d(outchannel)\n",
    "        self.conv2 = nn.Conv2d(outchannel,outchannel,kernel_size=3,stride=1,padding=1)\n",
    "        self.bn2 = nn.BatchNorm2d(outchannel)\n",
    "        \n",
    "        self.shortcut=nn.Sequential()\n",
    "        if stride !=1 or inchannel!=outchannel:\n",
    "            self.shortcut=nn.Sequential(\n",
    "                nn.Conv2d(inchannel,outchannel,kernel_size=1,stride=stride),\n",
    "                nn.BatchNorm2d(outchannel)\n",
    "            )\n",
    "            \n",
    "    def forward(self, x):\n",
    "        out=F.relu(self.bn1(self.conv1(x)))\n",
    "        out=F.relu(self.bn2(self.conv2(out)))\n",
    "        out+=self.shortcut(x)\n",
    "        out=F.relu(out)\n",
    "        return out"
   ]
  },
  {
   "cell_type": "code",
   "execution_count": 0,
   "metadata": {
    "colab": {},
    "colab_type": "code",
    "collapsed": true,
    "id": "LJYh_7S4alYR"
   },
   "outputs": [],
   "source": [
    "class ResNet(nn.Module):\n",
    "    def __init__(self,block,block_list):\n",
    "        super(ResNet, self).__init__()\n",
    "        self.inchannel=32\n",
    "        self.conv1 = nn.Conv2d(3, 32, kernel_size=3, stride=1, padding=1)\n",
    "        self.bn1 = nn.BatchNorm2d(32)\n",
    "        self.conv_drop = nn.Dropout(p=0.5)\n",
    "        self.conv2 = self._make_layer(block, 32, block_list[0], stride=1)\n",
    "        self.conv3 = self._make_layer(block, 64, block_list[1], stride=2)\n",
    "        self.conv4 = self._make_layer(block, 128, block_list[2], stride=2)\n",
    "        self.conv5 = self._make_layer(block, 256, block_list[3], stride=2)\n",
    "        self.pool = nn.MaxPool2d(4)\n",
    "        self.linear = nn.Linear(256, 100)\n",
    "        \n",
    "    def _make_layer(self, block, outchannel, num_blocks, stride):\n",
    "        strides=[stride]+[1]*(num_blocks-1)\n",
    "        layer=[]\n",
    "        for stride in strides:\n",
    "            layer.append(block(self.inchannel,outchannel,stride=stride))\n",
    "            self.inchannel=outchannel\n",
    "            return nn.Sequential(*layer)\n",
    "                         \n",
    "    def forward(self,x):\n",
    "        out=F.relu(self.bn1(self.conv1(x)))\n",
    "        out=self.conv2(out)\n",
    "        out=self.conv3(out) \n",
    "        out=self.conv4(out)\n",
    "        out=self.conv5(out)\n",
    "        out=self.pool(out)\n",
    "        out=out.view(out.size(0),-1)\n",
    "        out=self.linear(out)\n",
    "        return out"
   ]
  },
  {
   "cell_type": "code",
   "execution_count": 0,
   "metadata": {
    "colab": {},
    "colab_type": "code",
    "collapsed": true,
    "id": "RkH6duQFalYU"
   },
   "outputs": [],
   "source": [
    "class Model_Trainer():\n",
    "    def __init__(self,model,criterion,optimizer,batchSize,trainset,testset,scheduler):\n",
    "        self.model = model\n",
    "        self.criterion = criterion\n",
    "        self.optimizer = optimizer\n",
    "        self.trainloader = torch.utils.data.DataLoader(trainset, batch_size=batchSize,\n",
    "                            shuffle=True, num_workers=2)\n",
    "        self.testloader = torch.utils.data.DataLoader(testset, batch_size=batchSize,\n",
    "                            shuffle=False, num_workers=2)\n",
    "        self.epoch_num_trained = 0\n",
    "        #self.costs = []\n",
    "        self.costs_step = []\n",
    "        self.test_accus = []\n",
    "        self.train_accus =[]\n",
    "        self.scheduler=scheduler\n",
    "        \n",
    "    def train(self,n_epochs):\n",
    "        for epoch in range(n_epochs):\n",
    "            self.scheduler.step()\n",
    "            self.model.train()\n",
    "            cost = 0\n",
    "            a = len(self.trainloader)\n",
    "            for i, data in enumerate(self.trainloader, 0):\n",
    "                inputs, labels = data\n",
    "                inputs = Variable(inputs).cuda()\n",
    "                labels = Variable(labels).cuda()\n",
    "                \n",
    "                \n",
    "                self.optimizer.zero_grad()\n",
    "\n",
    "                outputs = self.model(inputs)\n",
    "                loss = self.criterion(outputs, labels)\n",
    "                loss.backward()\n",
    "                self.optimizer.step()\n",
    "                cost += loss.item()/a\n",
    "            self.epoch_num_trained +=1\n",
    "            if (self.epoch_num_trained)%(2) == 0 or epoch==0: \n",
    "                train_a =self.train_accu()\n",
    "                test_a = self.test_accu()\n",
    "                print (str(self.epoch_num_trained),cost,\" str(train_a): \",train_a,\" str(test_a): \",test_a)\n",
    "                self.test_accus.append(train_a)\n",
    "                self.train_accus.append(test_a)\n",
    "                #self.costs.append(cost)\n",
    "                self.costs_step.append(self.epoch_num_trained)\n",
    "        #self.costs.append(cost)\n",
    "        self.test_accus.append(train_a)\n",
    "        self.train_accus.append(test_a)\n",
    "        self.costs_step.append(self.epoch_num_trained)\n",
    "        return 1\n",
    "    \n",
    "    def test_accu(self):\n",
    "        \n",
    "        correct = 0\n",
    "        total = 0\n",
    "        self.model.eval()\n",
    "        with torch.no_grad():\n",
    "            for data in self.testloader:\n",
    "                images, labels = data\n",
    "                images = Variable(images).cuda()\n",
    "                labels = Variable(labels).cuda()\n",
    "                outputs = self.model(images)\n",
    "                _, predicted = torch.max(outputs.data, 1)\n",
    "                total += labels.size(0)\n",
    "                correct += (predicted == labels).sum().item()           \n",
    "               \n",
    "        return 100.0*correct/total\n",
    "    \n",
    "    \n",
    "    def train_accu(self):\n",
    "        correct = 0\n",
    "        total = 0\n",
    "        self.model.eval()\n",
    "        with torch.no_grad():\n",
    "            for data in self.trainloader:\n",
    "                images, labels = data\n",
    "                images = torch.autograd.Variable(images).cuda()\n",
    "                labels = torch.autograd.Variable(labels).cuda()\n",
    "                outputs = self.model(images)\n",
    "                _, predicted = torch.max(outputs.data, 1)\n",
    "                total += labels.size(0)\n",
    "                correct += (predicted == labels).sum().item()\n",
    "                \n",
    "        return 100.0*correct/total\n",
    "        "
   ]
  },
  {
   "cell_type": "code",
   "execution_count": 0,
   "metadata": {
    "colab": {},
    "colab_type": "code",
    "collapsed": true,
    "id": "sykACtQGalYW"
   },
   "outputs": [],
   "source": [
    "from torch.autograd import Variable\n",
    "import torch.optim as optim\n",
    "mynet = ResNet(basicblock, [2,4,4,2]).cuda()\n",
    "criterion = nn.CrossEntropyLoss()\n",
    "alpha = 0.001\n",
    "optimizer = optim.Adam(mynet.parameters(),lr = alpha)\n",
    "scheduler = optim.lr_scheduler.MultiStepLR(optimizer, milestones=[20,30,40], gamma=0.2)\n",
    "batch_size=128\n",
    "mynet_trainer = Model_Trainer(mynet,criterion,optimizer,batch_size,traindata,testdata,scheduler)"
   ]
  },
  {
   "cell_type": "code",
   "execution_count": 10,
   "metadata": {
    "colab": {
     "base_uri": "https://localhost:8080/",
     "height": 391
    },
    "colab_type": "code",
    "id": "RfRL3oFralYa",
    "outputId": "ede3ccef-80ae-4fac-b5c6-b9833c088b0c"
   },
   "outputs": [
    {
     "name": "stdout",
     "output_type": "stream",
     "text": [
      "1 3.6826834574989635  str(train_a):  20.572  str(test_a):  21.26\n",
      "2 2.9556277840948484  str(train_a):  31.356  str(test_a):  31.4\n",
      "4 2.318838505488834  str(train_a):  42.194  str(test_a):  41.77\n",
      "6 1.9497095267181197  str(train_a):  50.568  str(test_a):  47.33\n",
      "8 1.6895516022391934  str(train_a):  55.93  str(test_a):  50.59\n",
      "10 1.4859422265416222  str(train_a):  60.126  str(test_a):  53.09\n",
      "12 1.3273919011320907  str(train_a):  65.2  str(test_a):  55.04\n",
      "14 1.1949757028113839  str(train_a):  68.704  str(test_a):  56.38\n",
      "16 1.0837883981292509  str(train_a):  71.376  str(test_a):  56.75\n",
      "18 0.9814791185471706  str(train_a):  73.066  str(test_a):  57.11\n",
      "20 0.8941702423498151  str(train_a):  75.906  str(test_a):  57.65\n",
      "22 0.6390767377203379  str(train_a):  83.928  str(test_a):  60.56\n",
      "24 0.5825726113965746  str(train_a):  85.496  str(test_a):  60.15\n",
      "26 0.5438141453906398  str(train_a):  86.372  str(test_a):  60.55\n",
      "28 0.5159632728227873  str(train_a):  87.298  str(test_a):  61.0\n",
      "30 0.4834601392069132  str(train_a):  88.508  str(test_a):  60.58\n",
      "32 0.4367894361848415  str(train_a):  89.13  str(test_a):  60.77\n",
      "34 0.4284940667240824  str(train_a):  89.556  str(test_a):  60.96\n",
      "36 0.41592545010854515  str(train_a):  89.704  str(test_a):  60.87\n",
      "38 0.40993119970611924  str(train_a):  90.054  str(test_a):  60.81\n",
      "40 0.4025098345697382  str(train_a):  90.178  str(test_a):  60.87\n"
     ]
    },
    {
     "data": {
      "text/plain": [
       "1"
      ]
     },
     "execution_count": 10,
     "metadata": {
      "tags": []
     },
     "output_type": "execute_result"
    }
   ],
   "source": [
    "mynet_trainer.train(40)"
   ]
  },
  {
   "cell_type": "code",
   "execution_count": 11,
   "metadata": {
    "colab": {
     "base_uri": "https://localhost:8080/",
     "height": 347
    },
    "colab_type": "code",
    "id": "A1rHpYwoTLkp",
    "outputId": "b8fe2733-b99a-410c-c305-aa6f1fa920f7"
   },
   "outputs": [
    {
     "data": {
      "image/png": "[encoded data removed]",
      "text/plain": [
       "<matplotlib.figure.Figure at 0x7ffb45298828>"
      ]
     },
     "metadata": {
      "tags": []
     },
     "output_type": "display_data"
    }
   ],
   "source": [
    "import matplotlib.pyplot as plt\n",
    "import numpy as np\n",
    "from google.colab import files\n",
    "\n",
    "plt.plot(np.arange(len(mynet_trainer.test_accus))*2.,mynet_trainer.test_accus,label=\"test accu\")\n",
    "plt.plot(np.arange(len(mynet_trainer.test_accus))*2.,mynet_trainer.train_accus,label=\"train accu\")\n",
    "plt.legend(loc=\"best\")\n",
    "#plt.show()\n",
    "plt.savefig(\"yuan_config.png\")\n",
    "files.download(\"yuan_config.png\")\n",
    "plt.show()"
   ]
  },
  {
   "cell_type": "code",
   "execution_count": 12,
   "metadata": {
    "colab": {
     "base_uri": "https://localhost:8080/",
     "height": 34
    },
    "colab_type": "code",
    "id": "kn4JeiSmeZZv",
    "outputId": "28b9680c-3459-4036-ad23-6d560d890760"
   },
   "outputs": [
    {
     "data": {
      "text/plain": [
       "90.334"
      ]
     },
     "execution_count": 12,
     "metadata": {
      "tags": []
     },
     "output_type": "execute_result"
    }
   ],
   "source": [
    "mynet_trainer.train_accu()"
   ]
  },
  {
   "cell_type": "code",
   "execution_count": 13,
   "metadata": {
    "colab": {
     "base_uri": "https://localhost:8080/",
     "height": 34
    },
    "colab_type": "code",
    "id": "tgRgnuIEe5ss",
    "outputId": "7c0f591f-fa8f-4306-c7ee-53c4e8b65727"
   },
   "outputs": [
    {
     "data": {
      "text/plain": [
       "60.87"
      ]
     },
     "execution_count": 13,
     "metadata": {
      "tags": []
     },
     "output_type": "execute_result"
    }
   ],
   "source": [
    "mynet_trainer.test_accu()"
   ]
  }
 ],
 "metadata": {
  "accelerator": "GPU",
  "colab": {
   "name": "hw4.ipynb",
   "provenance": [],
   "version": "0.3.2"
  },
  "kernelspec": {
   "display_name": "Python 3",
   "language": "python",
   "name": "python3"
  },
  "language_info": {
   "codemirror_mode": {
    "name": "ipython",
    "version": 3
   },
   "file_extension": ".py",
   "mimetype": "text/x-python",
   "name": "python",
   "nbconvert_exporter": "python",
   "pygments_lexer": "ipython3",
   "version": "3.6.3"
  }
 },
 "nbformat": 4,
 "nbformat_minor": 1
}
