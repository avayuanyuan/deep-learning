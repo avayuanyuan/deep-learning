{
 "cells": [
  {
   "cell_type": "code",
   "execution_count": 0,
   "metadata": {
    "colab": {},
    "colab_type": "code",
    "collapsed": true,
    "id": "NXAcytE2QZG4"
   },
   "outputs": [],
   "source": [
    "import torch\n",
    "import torchvision\n",
    "import torchvision.transforms as transforms\n",
    "\n",
    "import matplotlib.pyplot as plt\n",
    "import numpy as np\n",
    "import torch.nn as nn\n",
    "import torch.nn.functional as F\n",
    "import torch.optim as optim\n",
    "from torch.autograd import Variable\n",
    "\n",
    "\n",
    "from google.colab import files"
   ]
  },
  {
   "cell_type": "code",
   "execution_count": 0,
   "metadata": {
    "colab": {},
    "colab_type": "code",
    "collapsed": true,
    "id": "N7wWhEH5RFF3"
   },
   "outputs": [],
   "source": [
    "class Model(nn.Module):\n",
    "    def __init__(self):\n",
    "        super(Model, self).__init__()\n",
    "        self.conv1 = nn.Conv2d(3, 64, 4,padding=2)\n",
    "        self.bn1 = nn.BatchNorm2d(64)\n",
    "        self.conv2 = nn.Conv2d(64, 64, 4,padding=2)\n",
    "        self.pool = nn.MaxPool2d(2,2)\n",
    "        self.conv_drop = nn.Dropout(p=0.25)\n",
    "        self.conv3 = nn.Conv2d(64, 64, 4,padding=2)\n",
    "        self.bn3 = nn.BatchNorm2d(64)\n",
    "        self.conv4 = nn.Conv2d(64, 64, 4,padding=2)\n",
    "        self.conv5 = nn.Conv2d(64, 64,4,padding=2)\n",
    "        self.bn5 = nn.BatchNorm2d(64)\n",
    "        self.conv6 = nn.Conv2d(64,64,3,padding=0)\n",
    "        self.conv7 = nn.Conv2d(64,64,3,padding=0)\n",
    "        self.bn7 = nn.BatchNorm2d(64)\n",
    "        self.conv8 = nn.Conv2d(64,64,3,padding=0)\n",
    "        self.bn8 = nn.BatchNorm2d(64)\n",
    "        self.fc1 = nn.Linear(64*4*4, 500)\n",
    "        self.fc2 = nn.Linear(500,500)\n",
    "        self.fc3 = nn.Linear(500,128)\n",
    "        self.fc4 = nn.Linear(128,10)\n",
    "        self.fc_drop = nn.Dropout(p=0.5)\n",
    "\n",
    "    def forward(self, x):\n",
    "        x = F.leaky_relu(self.bn1(self.conv1(x)),negative_slope=0.1)\n",
    "        x = F.leaky_relu(self.pool(self.conv2(x)),negative_slope=0.1)\n",
    "        x = self.conv_drop(x)\n",
    "        x = F.leaky_relu(self.bn3(self.conv3(x)),negative_slope=0.1)\n",
    "        x = F.leaky_relu(self.pool(self.conv4(x)),negative_slope=0.1)\n",
    "        x = self.conv_drop(x)\n",
    "        x = F.leaky_relu(self.bn5(self.conv5(x)),negative_slope=0.1)\n",
    "        x = F.leaky_relu(self.conv6(x),negative_slope=0.1)\n",
    "        x = self.conv_drop(x)\n",
    "        x = F.leaky_relu(self.bn7(self.conv7(x)),negative_slope=0.1)\n",
    "        x = F.leaky_relu(self.bn8(self.conv8(x)),negative_slope=0.1)\n",
    "        x = self.conv_drop(x)\n",
    "        x = x.view(x.size(0), -1)\n",
    "        x = x.view(-1,64*4*4)\n",
    "        x = F.leaky_relu(self.fc1(x),negative_slope=0.1)\n",
    "        x = F.leaky_relu(self.fc2(x),negative_slope=0.1)\n",
    "        x = F.leaky_relu(self.fc3(x),negative_slope=0.1)\n",
    "        x = self.fc4(x)\n",
    "        return x"
   ]
  },
  {
   "cell_type": "code",
   "execution_count": 0,
   "metadata": {
    "colab": {},
    "colab_type": "code",
    "collapsed": true,
    "id": "amwKjM1mS7EL"
   },
   "outputs": [],
   "source": [
    "class Model_Trainer():\n",
    "    def __init__(self,model,classes,criterion,optimizer,batchSize,trainset,testset):\n",
    "        self.model = model\n",
    "        self.classes = classes\n",
    "        self.criterion = criterion\n",
    "        self.optimizer = optimizer\n",
    "        self.trainloader = torch.utils.data.DataLoader(trainset, batch_size=batchSize,\n",
    "                            shuffle=True, num_workers=2)\n",
    "        self.testloader = torch.utils.data.DataLoader(testset, batch_size=batchSize,\n",
    "                            shuffle=False, num_workers=2)\n",
    "        self.epoch_num_trained = 0\n",
    "        self.costs = []\n",
    "        self.costs_step = []\n",
    "        self.test_accus = []\n",
    "        self.train_accus =[]\n",
    "    \n",
    "    def train(self,n_epochs):\n",
    "        for epoch in range(n_epochs):\n",
    "            self.model.train()\n",
    "            cost = 0\n",
    "            a = len(self.trainloader)\n",
    "            for i, data in enumerate(self.trainloader, 0):\n",
    "                inputs, labels = data\n",
    "                inputs = Variable(inputs).cuda()\n",
    "                labels = Variable(labels).cuda()\n",
    "                \n",
    "                \n",
    "                self.optimizer.zero_grad()\n",
    "\n",
    "                outputs = self.model(inputs)\n",
    "                loss = self.criterion(outputs, labels)\n",
    "                loss.backward()\n",
    "                self.optimizer.step()\n",
    "                #cost += loss.data/a\n",
    "                cost += loss.item()/a\n",
    "            self.epoch_num_trained +=1\n",
    "            if (self.epoch_num_trained)%(2) == 0 or epoch==0:              \n",
    "                print (str(self.epoch_num_trained),cost)\n",
    "                self.costs.append(cost)\n",
    "                self.costs_step.append(self.epoch_num_trained)\n",
    "        self.costs.append(cost)\n",
    "        self.costs_step.append(self.epoch_num_trained)\n",
    "        return \n",
    "    \n",
    "    def test_accu(self):\n",
    "        \n",
    "        correct = 0\n",
    "        total = 0\n",
    "        class_correct = list(0. for i in range(10))\n",
    "        class_total = list(0. for i in range(10))\n",
    "        self.model.eval()\n",
    "        with torch.no_grad():\n",
    "            for data in self.testloader:\n",
    "                images, labels = data\n",
    "                images = Variable(images).cuda()\n",
    "                labels = Variable(labels).cuda()\n",
    "                outputs = self.model(images)\n",
    "                _, predicted = torch.max(outputs.data, 1)\n",
    "                total += labels.size(0)\n",
    "                correct += (predicted == labels).sum().item()\n",
    "                \n",
    "               \n",
    "        return 100.0*correct/total\n",
    "    \n",
    "    def train_accu(self):\n",
    "        correct = 0\n",
    "        total = 0\n",
    "        self.model.eval()\n",
    "        with torch.no_grad():\n",
    "            for data in self.trainloader:\n",
    "                images, labels = data\n",
    "                images = torch.autograd.Variable(images).cuda()\n",
    "                labels = torch.autograd.Variable(labels).cuda()\n",
    "                outputs = self.model(images)\n",
    "                _, predicted = torch.max(outputs.data, 1)\n",
    "                total += labels.size(0)\n",
    "                correct += (predicted == labels).sum().item()\n",
    "                \n",
    "        return 100.0*correct/total\n",
    "        "
   ]
  },
  {
   "cell_type": "code",
   "execution_count": 6,
   "metadata": {
    "colab": {
     "base_uri": "https://localhost:8080/",
     "height": 51
    },
    "colab_type": "code",
    "id": "ThgbSrpPaPji",
    "outputId": "90151ef7-ed75-4ed9-c9cb-0f9d2003ea5f"
   },
   "outputs": [
    {
     "name": "stdout",
     "output_type": "stream",
     "text": [
      "Downloading https://www.cs.toronto.edu/~kriz/cifar-10-python.tar.gz to ./data/cifar-10-python.tar.gz\n",
      "Files already downloaded and verified\n"
     ]
    }
   ],
   "source": [
    "transform = transforms.Compose(\n",
    "    [transforms.RandomHorizontalFlip(),\n",
    "     transforms.RandomCrop(32),\n",
    "     transforms.RandomRotation(20),\n",
    "     transforms.ToTensor(),\n",
    "     transforms.Normalize((0.5, 0.5, 0.5), (0.5, 0.5, 0.5))])\n",
    "trainset = torchvision.datasets.CIFAR10(root='./data', train=True,\n",
    "                                        download=True, transform=transform)\n",
    "\n",
    "testset = torchvision.datasets.CIFAR10(root='./data', train=False,\n",
    "                                       download=True, transform=transform)\n",
    "classes = ['airplane', 'automobile', 'bird', 'cat', 'deer', \n",
    "           'dog', 'frog', 'horse', 'ship', 'truck']"
   ]
  },
  {
   "cell_type": "code",
   "execution_count": 0,
   "metadata": {
    "colab": {},
    "colab_type": "code",
    "collapsed": true,
    "id": "OT7F4UBka1rZ"
   },
   "outputs": [],
   "source": [
    "mynet = Model().cuda()\n",
    "criterion = nn.CrossEntropyLoss()\n",
    "alpha = 0.001\n",
    "optimizer = optim.Adam(mynet.parameters(),lr = alpha)\n",
    "batch_size=128\n",
    "mynet_trainer = Model_Trainer(mynet,classes,criterion,optimizer,batch_size,trainset,testset)"
   ]
  },
  {
   "cell_type": "code",
   "execution_count": 8,
   "metadata": {
    "colab": {
     "base_uri": "https://localhost:8080/",
     "height": 459
    },
    "colab_type": "code",
    "id": "VpbV2cKob-4F",
    "outputId": "e69375a7-0373-4b8b-d377-af87d75a9cc8"
   },
   "outputs": [
    {
     "name": "stdout",
     "output_type": "stream",
     "text": [
      "1 1.5619897293617655\n",
      "2 1.1955799748525588\n",
      "4 0.9208091744376572\n",
      "6 0.795840575414545\n",
      "8 0.7170457934479578\n",
      "10 0.659285293744348\n",
      "12 0.6193800724833208\n",
      "14 0.5813512772397923\n",
      "16 0.5621555051992619\n",
      "18 0.5352954472727178\n",
      "20 0.5144863957181915\n",
      "22 0.49351993386093\n",
      "24 0.47765185255223835\n",
      "26 0.4656041994729006\n",
      "28 0.45255217055225644\n",
      "30 0.4345644596211439\n",
      "32 0.43022590738428207\n",
      "34 0.41177463287587673\n",
      "36 0.41005695506434897\n",
      "38 0.394619553900131\n",
      "40 0.3845349130651837\n",
      "42 0.3787148024724878\n",
      "44 0.37212874448817723\n",
      "46 0.3661704885837674\n",
      "48 0.35760109991673616\n",
      "50 0.356255403603129\n"
     ]
    }
   ],
   "source": [
    "mynet_trainer.train(50)"
   ]
  },
  {
   "cell_type": "code",
   "execution_count": 0,
   "metadata": {
    "colab": {},
    "colab_type": "code",
    "collapsed": true,
    "id": "3KLvZBdbdncA"
   },
   "outputs": [],
   "source": [
    "torch.save(mynet.state_dict(),\"model.parameter\" )\n",
    "files.download(\"model.parameter\")"
   ]
  },
  {
   "cell_type": "code",
   "execution_count": 10,
   "metadata": {
    "colab": {
     "base_uri": "https://localhost:8080/",
     "height": 34
    },
    "colab_type": "code",
    "id": "TAabijm-du_e",
    "outputId": "4c9ddc42-8d88-4743-aef8-33e77cde7e87"
   },
   "outputs": [
    {
     "data": {
      "text/plain": [
       "90.724"
      ]
     },
     "execution_count": 10,
     "metadata": {
      "tags": []
     },
     "output_type": "execute_result"
    }
   ],
   "source": [
    "mynet_trainer.train_accu()"
   ]
  },
  {
   "cell_type": "code",
   "execution_count": 11,
   "metadata": {
    "colab": {
     "base_uri": "https://localhost:8080/",
     "height": 34
    },
    "colab_type": "code",
    "id": "PvVBdlH_dwb_",
    "outputId": "7f3b91a7-0ebb-4e4c-ce94-752b9f75466c"
   },
   "outputs": [
    {
     "data": {
      "text/plain": [
       "85.13"
      ]
     },
     "execution_count": 11,
     "metadata": {
      "tags": []
     },
     "output_type": "execute_result"
    }
   ],
   "source": [
    "#mynet_trainer = Model_Trainer(mynet,classes,criterion,optimizer,batch_size,trainset,testset)\n",
    "mynet_trainer.test_accu()"
   ]
  },
  {
   "cell_type": "code",
   "execution_count": 12,
   "metadata": {
    "colab": {
     "base_uri": "https://localhost:8080/",
     "height": 347
    },
    "colab_type": "code",
    "id": "tWJYMmgmd8kG",
    "outputId": "39b68edc-7f1e-4129-e794-32132c30bc12"
   },
   "outputs": [
    {
     "data": {
      "image/png": "[encoded data removed]",
      "text/plain": [
       "<matplotlib.figure.Figure at 0x7fc990a83b00>"
      ]
     },
     "metadata": {
      "tags": []
     },
     "output_type": "display_data"
    }
   ],
   "source": [
    "import matplotlib.pyplot as plt\n",
    "import numpy as np\n",
    "from google.colab import files\n",
    "\n",
    "#plt.plot(np.arange(len(mynet_trainer.test_accus))*2.,mynet_trainer.test_accus,label=\"test accu\")\n",
    "plt.plot(mynet_trainer.costs_step,mynet_trainer.costs,label=\"costs\")\n",
    "plt.legend(loc=\"best\")\n",
    "plt.savefig(\"config.png\")\n",
    "files.download(\"config.png\")\n",
    "plt.show()"
   ]
  },
  {
   "cell_type": "code",
   "execution_count": 0,
   "metadata": {
    "colab": {},
    "colab_type": "code",
    "collapsed": true,
    "id": "zNzvT8ANEgCP"
   },
   "outputs": [],
   "source": [
    "import numpy as np\n",
    "def Monte_Carlo_test(model_trainer,MC_size,images):\n",
    "  model = model_trainer.model\n",
    "  model.train()\n",
    "  outs = np.zeros((MC_size,128,10))\n",
    "  for i in range(MC_size):\n",
    "    with torch.no_grad():\n",
    "      images = torch.autograd.Variable(images).cuda()\n",
    "      outputs = model(images)\n",
    "      outputs = outputs.cpu().numpy()\n",
    "      expouts = np.exp(outputs)\n",
    "      outputs = expouts/(np.sum(expouts,axis=1,keepdims=True))\n",
    "      outs[i,:,:] = outputs[:,:]\n",
    "  out = np.sum(outs,axis=0)/MC_size\n",
    "  return out\n",
    "    \n",
    "def Evaluate(model_trainer,MC_size,images):\n",
    "  model = model_trainer.model\n",
    "  model.eval()\n",
    "  outs = np.zeros((128,10))\n",
    "  with torch.no_grad():\n",
    "    images, labels = data\n",
    "    images = torch.autograd.Variable(images).cuda()\n",
    "    outputs = model(images)\n",
    "    outputs = outputs.cpu().numpy()\n",
    "    expouts = np.exp(outputs)\n",
    "    outs[:,:] = expouts/(np.sum(expouts,axis=1,keepdims=True))\n",
    "  return outs"
   ]
  },
  {
   "cell_type": "code",
   "execution_count": 0,
   "metadata": {
    "colab": {},
    "colab_type": "code",
    "collapsed": true,
    "id": "3ZyFf3wCEoBV"
   },
   "outputs": [],
   "source": [
    "for i, data in enumerate(mynet_trainer.trainloader, 0):\n",
    "  images, labels = data\n",
    "  break\n",
    "MCout = Monte_Carlo_test(mynet_trainer,100,images)\n",
    "Myout = Evaluate(mynet_trainer,1000,images)\n"
   ]
  },
  {
   "cell_type": "code",
   "execution_count": 20,
   "metadata": {
    "colab": {
     "base_uri": "https://localhost:8080/",
     "height": 694
    },
    "colab_type": "code",
    "id": "wCVMZhStFgDS",
    "outputId": "2d83bd45-2fc6-4a50-8180-fee4bcf94ea9"
   },
   "outputs": [
    {
     "name": "stdout",
     "output_type": "stream",
     "text": [
      "0.9765625\n"
     ]
    },
    {
     "data": {
      "image/png": "[encoded data removed]",
      "text/plain": [
       "<matplotlib.figure.Figure at 0x7fc959a00fd0>"
      ]
     },
     "metadata": {
      "tags": []
     },
     "output_type": "display_data"
    },
    {
     "data": {
      "image/png": "[encoded data removed]",
      "text/plain": [
       "<matplotlib.figure.Figure at 0x7fc9905f8da0>"
      ]
     },
     "metadata": {
      "tags": []
     },
     "output_type": "display_data"
    }
   ],
   "source": [
    "import matplotlib.pyplot as plt\n",
    "diff = np.linalg.norm(Myout-MCout,ord=np.inf,axis=1)\n",
    "accu = np.linalg.norm(MCout,ord=1,axis=1)\n",
    "outs = np.linalg.norm(Myout,ord=1,axis=1)\n",
    "accu_ratio = diff/accu\n",
    "\n",
    "\n",
    "plt.figure()\n",
    "plt.plot(accu_ratio,label=\"accu_ratio\")\n",
    "plt.legend()\n",
    "\n",
    "\n",
    "plt.figure()\n",
    "accu = np.argmax(MCout,axis=1)\n",
    "outs = np.argmax(Myout,axis=1)\n",
    "plt.plot(accu-outs,label=\"accu\")\n",
    "plt.legend()\n",
    "plt.savefig(\"mctest.png\")\n",
    "files.download(\"mctest.png\")\n",
    "print (1.*np.sum(accu==outs)/accu.shape[0])"
   ]
  }
 ],
 "metadata": {
  "accelerator": "GPU",
  "colab": {
   "collapsed_sections": [],
   "name": "Untitled0.ipynb",
   "provenance": [],
   "version": "0.3.2"
  },
  "kernelspec": {
   "display_name": "Python 3",
   "language": "python",
   "name": "python3"
  },
  "language_info": {
   "codemirror_mode": {
    "name": "ipython",
    "version": 3
   },
   "file_extension": ".py",
   "mimetype": "text/x-python",
   "name": "python",
   "nbconvert_exporter": "python",
   "pygments_lexer": "ipython3",
   "version": "3.6.3"
  }
 },
 "nbformat": 4,
 "nbformat_minor": 1
}
